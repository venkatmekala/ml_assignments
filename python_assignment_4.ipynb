{
 "cells": [
  {
   "cell_type": "markdown",
   "metadata": {},
   "source": [
    "1.1 Write a Python Program(with class concepts) to find the area of the triangle using the below formula. \n",
    " \n",
    "area = (s*(s-a)*(s-b)*(s-c)) ** 0.5 \n",
    " \n",
    "Function to take the length of the sides of triangle from user should be defined in the parent class and function to calculate the area should be defined in subclass. "
   ]
  },
  {
   "cell_type": "code",
   "execution_count": 139,
   "metadata": {},
   "outputs": [
    {
     "name": "stdout",
     "output_type": "stream",
     "text": [
      "Area of the triangle is :  216.0\n"
     ]
    }
   ],
   "source": [
    "class Object:\n",
    "   \n",
    "    def __init__(self, a, b, c):\n",
    "        self._a = a\n",
    "        self._b = b\n",
    "        self._c = c\n",
    "\n",
    "class Triangle(Object):    \n",
    "    \n",
    "    def __init__(self, *ar):\n",
    "        super().__init__(*ar)        \n",
    "                  \n",
    "    def compute_area(self):\n",
    "        s = (self._a + self._b + self._c)/2\n",
    "        return (s*(s-self._a)*(s-self._b)*(s-self._c))**0.5\n",
    "    \n",
    "area = Triangle(24, 30, 18)\n",
    "print(\"Area of the triangle is : \", area.compute_area())"
   ]
  },
  {
   "cell_type": "markdown",
   "metadata": {},
   "source": [
    "1.2 Write a function filter_long_words() that takes a list of words and an integer n and returns the list of words that are longer than n"
   ]
  },
  {
   "cell_type": "code",
   "execution_count": 140,
   "metadata": {},
   "outputs": [
    {
     "name": "stdout",
     "output_type": "stream",
     "text": [
      "Using user defined function :  ['Elephant', 'Aeroplane']\n",
      "Using pre-defined function :  ['Elephant', 'Aeroplane']\n"
     ]
    }
   ],
   "source": [
    "def find_long_words(e, n):\n",
    "    if(len(e) > n):\n",
    "        return e\n",
    "\n",
    "def filter_long_words(func, list, n):\n",
    "    l = []\n",
    "    for e in list:\n",
    "        if(func(e, n)):\n",
    "            l.append(e)\n",
    "    return l\n",
    "\n",
    "a = [\"Apple\",\"Elephant\", \"Aeroplane\"]\n",
    "target_length = 5\n",
    "\n",
    "print(\"Using user defined function : \", filter_long_words(find_long_words, a, target_length))\n",
    "\n",
    "print(\"Using pre-defined function : \", list(filter(lambda x: len(x) > target_length, a)))\n"
   ]
  },
  {
   "cell_type": "markdown",
   "metadata": {},
   "source": [
    "2.1 Write a Python program using function concept that maps list of words into a list of integers representing the lengths of the corresponding words. \n",
    " \n",
    "Hint: If a list [ ab,cde,erty] is passed on to the python function output should come as [2,3,4] \n",
    " \n",
    "Here 2,3 and 4 are the lengths of the words in the list."
   ]
  },
  {
   "cell_type": "code",
   "execution_count": 141,
   "metadata": {},
   "outputs": [
    {
     "name": "stdout",
     "output_type": "stream",
     "text": [
      "Using user defined map :  [2, 3, 4, 5]\n",
      "Using pre-defined map :  [2, 3, 4]\n"
     ]
    }
   ],
   "source": [
    "def mymapfunc(func, list):\n",
    "    l = []\n",
    "    for e in list:\n",
    "        l.append(func(e))\n",
    "    return l\n",
    "\n",
    "print(\"Using user defined map : \", list(mymapfunc(len, [\"ab\", \"cde\", \"erty\", \"hello\"])))\n",
    "print(\"Using pre-defined map : \", list(map(len, [\"ab\", \"cde\", \"erty\"])))"
   ]
  },
  {
   "cell_type": "markdown",
   "metadata": {},
   "source": [
    "2.2 Write a Python function which takes a character (i.e. a string of length 1) and returns True if it is a vowel, False otherwise. "
   ]
  },
  {
   "cell_type": "code",
   "execution_count": 144,
   "metadata": {},
   "outputs": [
    {
     "name": "stdout",
     "output_type": "stream",
     "text": [
      "True\n",
      "False\n",
      "Invalid operation!! More than one character supplied\n"
     ]
    }
   ],
   "source": [
    "volwes = ['a', 'e', 'i', 'o', 'u']\n",
    "\n",
    "def is_ovwel(char):\n",
    "    if(len(char) > 1):\n",
    "        return \"Invalid operation!! More than one character supplied\"\n",
    "    return char.lower() in volwes\n",
    "\n",
    "print(is_ovwel('I'))\n",
    "print(is_ovwel('X'))\n",
    "print(is_ovwel('ABCD'))\n",
    "\n"
   ]
  }
 ],
 "metadata": {
  "kernelspec": {
   "display_name": "Python 3",
   "language": "python",
   "name": "python3"
  },
  "language_info": {
   "codemirror_mode": {
    "name": "ipython",
    "version": 3
   },
   "file_extension": ".py",
   "mimetype": "text/x-python",
   "name": "python",
   "nbconvert_exporter": "python",
   "pygments_lexer": "ipython3",
   "version": "3.7.6"
  }
 },
 "nbformat": 4,
 "nbformat_minor": 4
}
